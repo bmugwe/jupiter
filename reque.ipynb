{
 "cells": [
  {
   "cell_type": "code",
   "execution_count": 49,
   "metadata": {},
   "outputs": [
    {
     "name": "stdout",
     "output_type": "stream",
     "text": [
      "Name: Kenan Kishon Kariuki Percent: 8% current vote: 6041 Total vote: 6k / 73.7k\n"
     ]
    }
   ],
   "source": [
    "import requests\n",
    "from bs4 import BeautifulSoup as bs5\n",
    "\n",
    "r = requests.get('https://babybandafair.com/diaperthon-polls/#1660408340771-c5ecb0a1-61ce')\n",
    "\n",
    "cookies = r.cookies.items()[0][1]\n",
    "\n",
    "text = r.text\n",
    "\n",
    "content = bs5(r.content)\n",
    "\n",
    "kishon_name = content.find_all('div', {'class':'it_epoll_survey-name'})[13].text.strip()\n",
    "\n",
    "kishon_perc = content.find_all('span', {'class':'it_epoll_survey-progress-label'})[13].text.strip()\n",
    "\n",
    "kishon_value = content.find_all('input', {'id':'it_epoll_poll_e_vote_count'})[13].get('value')\n",
    "\n",
    "total_vote = content.find_all('span', {'class':'it_epoll_survey-completes'})[13].text.strip()\n",
    "\n",
    "poll_id = content.find_all('span', {'class':'it_epoll_survey-completes'})[13].text.strip()\n",
    "\n",
    "\n",
    "\n",
    "\n",
    "\n",
    "print(f'Name: {kishon_name} Percent: {kishon_perc} current vote: {kishon_value} Total vote: {total_vote}')"
   ]
  }
 ],
 "metadata": {
  "kernelspec": {
   "display_name": "Python 3.10.4 64-bit",
   "language": "python",
   "name": "python3"
  },
  "language_info": {
   "codemirror_mode": {
    "name": "ipython",
    "version": 3
   },
   "file_extension": ".py",
   "mimetype": "text/x-python",
   "name": "python",
   "nbconvert_exporter": "python",
   "pygments_lexer": "ipython3",
   "version": "3.10.4"
  },
  "orig_nbformat": 4,
  "vscode": {
   "interpreter": {
    "hash": "916dbcbb3f70747c44a77c7bcd40155683ae19c65e1c03b4aa3499c5328201f1"
   }
  }
 },
 "nbformat": 4,
 "nbformat_minor": 2
}

{
 "cells": [
  {
   "cell_type": "code",
   "execution_count": 27,
   "metadata": {},
   "outputs": [
    {
     "name": "stdout",
     "output_type": "stream",
     "text": [
      "<li class=\"it_epoll_survey-item\">\n",
      "<div class=\"it_epoll_survey-item-inner\">\n",
      "<div class=\"it_epoll_big_cover\">\n",
      "</div>\n",
      "<div class=\"it_epoll_survey-country it_epoll_grid-only\">\n",
      "<img src=\"https://babybandafair.com/wp-content/uploads/Amanda-Crystal-Atieno.jpeg\"/>\n",
      "<div class=\"it_epoll_spinner\">\n",
      "<svg id=\"it_epoll_tick\" version=\"1.1\" viewbox=\"0 0 37 37\" x=\"0px\" xml:space=\"preserve\" xmlns=\"http://www.w3.org/2000/svg\" xmlns:xlink=\"http://www.w3.org/1999/xlink\" y=\"0px\">\n",
      "<path class=\"it_epoll_circ it_epoll_path\" d=\"\n",
      "\t\t\t\tM30.5,6.5L30.5,6.5c6.6,6.6,6.6,17.4,0,24l0,0c-6.6,6.6-17.4,6.6-24,0l0,0c-6.6-6.6-6.6-17.4,0-24l0,0C13.1-0.2,23.9-0.2,30.5,6.5z\" style=\"fill:none;stroke: #ffffff;stroke-width:1.5;stroke-linejoin:round;stroke-miterlimit:10;\"></path>\n",
      "<polyline class=\"it_epoll_tick it_epoll_path\" points=\"\n",
      "\t\t\t\t11.6,20 15.9,24.2 26.4,13.8 \" style=\"fill:none;stroke: #ffffff;stroke-width:1.5;stroke-linejoin:round;stroke-miterlimit:10;\"></polyline>\n",
      "</svg>\n",
      "</div>\n",
      "</div>\n",
      "<div class=\"it_epoll_survey-name\">\n",
      "\t\t\t\t  Amanda Crystal Atieno\t\t\t\t</div>\n",
      "<div class=\"it_epoll_survey-item-action\">\n",
      "<form action=\"\" class=\"it_epoll_survey-item-action-form\" name=\"it_epoll_survey-item-action-form\">\n",
      "<input id=\"it_epoll_poll-id\" name=\"it_epoll_poll-id\" type=\"hidden\" value=\"4536\"/>\n",
      "<input id=\"it_epoll_survey-item-id\" name=\"it_epoll_survey-item-id\" type=\"hidden\" value=\"122717103936895\"/>\n",
      "<input class=\"it_epoll_orange_gradient\" id=\"it_epoll_survey-vote-button\" name=\"it_epoll_survey-vote-button\" type=\"button\" value=\"Vote\"/>\n",
      "</form>\n",
      "</div>\n",
      "<div class=\"it_epoll_pull-right\">\n",
      "<span class=\"it_epoll_survey-progress\">\n",
      "<span class=\"it_epoll_survey-progress-bg\">\n",
      "<span class=\"it_epoll_survey-progress-fg it_epoll_orange_gradient\" style=\"width:8%;\"></span>\n",
      "</span>\n",
      "<span class=\"it_epoll_survey-progress-labels\">\n",
      "<span class=\"it_epoll_survey-progress-label\">\n",
      "\t\t\t\t\t\t8%\n",
      "\t\t\t\t\t  </span>\n",
      "<input id=\"it_epoll_poll_e_vote_count\" name=\"it_epoll_poll_e_vote_count\" type=\"hidden\" value=\"5895\"/>\n",
      "<span class=\"it_epoll_survey-completes\">\n",
      "\t\t\t\t\t\t5.8k / 73.4k\t\t\t\t\t  </span>\n",
      "</span>\n",
      "</span>\n",
      "</div>\n",
      "</div>\n",
      "</li>\n"
     ]
    }
   ],
   "source": [
    "import requests\n",
    "from bs4 import BeautifulSoup as bs5\n",
    "\n",
    "r = requests.get('https://babybandafair.com/diaperthon-polls/#1660408340771-c5ecb0a1-61ce')\n",
    "\n",
    "cookies = r.cookies.items()[0][1]\n",
    "\n",
    "text = r.text\n",
    "\n",
    "content = bs5(r.content)\n",
    "\n",
    "# print(dir(content))\n",
    "\n",
    "print((content.find('li')))"
   ]
  }
 ],
 "metadata": {
  "kernelspec": {
   "display_name": "Python 3.10.4 64-bit",
   "language": "python",
   "name": "python3"
  },
  "language_info": {
   "codemirror_mode": {
    "name": "ipython",
    "version": 3
   },
   "file_extension": ".py",
   "mimetype": "text/x-python",
   "name": "python",
   "nbconvert_exporter": "python",
   "pygments_lexer": "ipython3",
   "version": "3.10.4"
  },
  "orig_nbformat": 4,
  "vscode": {
   "interpreter": {
    "hash": "916dbcbb3f70747c44a77c7bcd40155683ae19c65e1c03b4aa3499c5328201f1"
   }
  }
 },
 "nbformat": 4,
 "nbformat_minor": 2
}
